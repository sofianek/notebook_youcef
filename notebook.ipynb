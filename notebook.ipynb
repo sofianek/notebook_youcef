{
 "cells": [
  {
   "cell_type": "markdown",
   "metadata": {},
   "source": [
    "## Le pire Notebook de l'histoire"
   ]
  },
  {
   "cell_type": "code",
   "execution_count": null,
   "metadata": {},
   "outputs": [],
   "source": [
    "if 1==1 :\n",
    "    print \"YEAH\""
   ]
  },
  {
   "cell_type": "markdown",
   "metadata": {},
   "source": [
    "### 2.1 Les graphes et la théorie des couleurs"
   ]
  },
  {
   "cell_type": "markdown",
   "metadata": {},
   "source": [
    "A l'aide du langage python on souhaite représenter les données sous la forme d'un camember. Nous allons donc créer 2 listes et utiliser le générateur de graphiques d'excel, plutôt que de coder ça en Python, cela parait beaucoup plus simple:"
   ]
  },
  {
   "cell_type": "code",
   "execution_count": null,
   "metadata": {},
   "outputs": [],
   "source": [
    "import xlsxwriter\n",
    "\n",
    "# sample data\n",
    "chart_data=[\n",
    "    {'couleur': u'bug de la théorie des couleurs', 'value': 23},\n",
    "    {'couleur': u'représente surement la couleur du temps qu\\'il fera demain, je t\\'invite quand même à aller voir la météo', 'value': 48},\n",
    "    {'couleur': u'la couleur des carrées devant l\\'ascenseur, l\\'attente interminable...', 'value': 15},\n",
    "    {'couleur': u'c\\'est bien sûr la couleur des vitres de la salle de déjeuner, surement une invitation à manger des burgers et des sandwitchs bio', 'value': 8},\n",
    "    {'couleur': u'un mixte de toutes les autres couleurs', 'value': 32}\n",
    "]\n",
    "\n",
    "# le path du fichier excel\n",
    "\n",
    "xls_file='youcef_2.xlsx'\n",
    "\n",
    "# le tableau excel\n",
    "\n",
    "workbook=xlsxwriter.Workbook(xls_file)\n",
    "\n",
    "# ajout d'une feuille excel\n",
    "\n",
    "worksheet=workbook.add_worksheet()\n",
    "\n",
    "row_ = 0\n",
    "\n",
    "col_ = 0\n",
    "\n",
    "# titre des colonnes\n",
    "worksheet.write(row_, col_, 'COULEUR')\n",
    "\n",
    "col_ += 1\n",
    "\n",
    "worksheet.write(row_, col_, 'VALUE')\n",
    "\n",
    "row_ += 1\n",
    "\n",
    "# écriture des données\n",
    "for item in chart_data:\n",
    "    \n",
    "    col_ = 0\n",
    "    \n",
    "    worksheet.write(row_, col_, item['couleur'])\n",
    "    \n",
    "    col_ += 1\n",
    "    \n",
    "    worksheet.write(row_, col_, item['value'])\n",
    "    \n",
    "    row_ += 1\n",
    "\n",
    "# création du camember\n",
    "\n",
    "pie_chart=workbook.add_chart({'type': 'pie'})\n",
    "\n",
    "# à compléter\n",
    "\n",
    "pie_chart.add_series({'name': 'Le graphe des couleurs','categories': '=Sheet1!$A$3:$A$%s' % row_,'values': '=Sheet1!$B$3:$B$%s' % row_,'marker': {'type': 'circle'}})\n",
    "\n",
    "# à compléter\n",
    "\n",
    "worksheet.insert_chart('D2', pie_chart)\n",
    "\n",
    "# à compléter\n",
    "\n",
    "column_chart=workbook.add_chart({'type': 'column'})\n",
    "\n",
    "# à compléter\n",
    "\n",
    "column_chart.add_series({'name': 'Le graphe des couleurs','categories': '=Sheet1!$A$3:$A$%s' % row_,'values': '=Sheet1!$B$3:$B$%s' % row_,\n",
    "    'marker': {'type': 'circle'}})\n",
    "\n",
    "# à compléter\n",
    "\n",
    "worksheet.insert_chart('D20', column_chart)\n",
    "\n",
    "workbook.close()"
   ]
  },
  {
   "attachments": {},
   "cell_type": "markdown",
   "metadata": {},
   "source": [
    "Puis après il suffit d'importer l'image dans le notebook python\n",
    "![image.png](image.png)"
   ]
  },
  {
   "cell_type": "markdown",
   "metadata": {},
   "source": [
    "### 3.1 Ces quelques pour toi Youcef..."
   ]
  },
  {
   "cell_type": "code",
   "execution_count": 6,
   "metadata": {},
   "outputs": [
    {
     "data": {
      "text/plain": [
       "[('prenom1', \"Un petit mot à l'attention de Youcef\"),\n",
       " ('prenom2', \"Un 2eme petit mot à l'attention de Youcef\")]"
      ]
     },
     "execution_count": 6,
     "metadata": {},
     "output_type": "execute_result"
    }
   ],
   "source": [
    "from configparser import ConfigParser\n",
    "\n",
    "parser = ConfigParser()\n",
    "parser.read('messages.txt',\"UTF-8\")\n",
    "\n",
    "parser.items('Section1')"
   ]
  },
  {
   "cell_type": "code",
   "execution_count": null,
   "metadata": {},
   "outputs": [],
   "source": []
  }
 ],
 "metadata": {
  "kernelspec": {
   "display_name": "Python 3",
   "language": "python",
   "name": "python3"
  },
  "language_info": {
   "codemirror_mode": {
    "name": "ipython",
    "version": 3
   },
   "file_extension": ".py",
   "mimetype": "text/x-python",
   "name": "python",
   "nbconvert_exporter": "python",
   "pygments_lexer": "ipython3",
   "version": "3.7.0"
  },
  "toc": {
   "base_numbering": 1,
   "nav_menu": {},
   "number_sections": true,
   "sideBar": true,
   "skip_h1_title": false,
   "title_cell": "Table of Contents",
   "title_sidebar": "Contents",
   "toc_cell": false,
   "toc_position": {},
   "toc_section_display": true,
   "toc_window_display": false
  }
 },
 "nbformat": 4,
 "nbformat_minor": 2
}
